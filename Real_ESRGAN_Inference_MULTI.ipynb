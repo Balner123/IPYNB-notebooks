{
  "nbformat": 4,
  "nbformat_minor": 0,
  "metadata": {
    "colab": {
      "provenance": []
    },
    "kernelspec": {
      "name": "python3",
      "display_name": "Python 3"
    },
    "language_info": {
      "name": "python"
    },
    "accelerator": "GPU"
  },
  "cells": [
    {
      "cell_type": "markdown",
      "metadata": {
        "id": "6BPxh_VmVVIu"
      },
      "source": [
        "# 1. Preparations\n",
        "Before start, make sure that you choose\n",
        "* Runtime Type = Python 3\n",
        "* Hardware Accelerator = GPU\n",
        "\n",
        "in the **Runtime** menu -> **Change runtime type**\n",
        "\n",
        "Then, we clone the repository, set up the envrironment."
      ]
    },
    {
      "cell_type": "code",
      "metadata": {
        "id": "GnpnrLfMV2jU",
        "collapsed": true
      },
      "source": [
        "# Clone Real-ESRGAN and enter the Real-ESRGAN\n",
        "!git clone https://github.com/xinntao/Real-ESRGAN.git\n",
        "%cd Real-ESRGAN\n",
        "# Set up the environment\n",
        "!pip install basicsr facexlib gfpgan\n",
        "!pip install -r requirements.txt\n",
        "!python setup.py develop\n",
        "!pip install torch torchvision torchaudio"
      ],
      "execution_count": null,
      "outputs": []
    },
    {
      "cell_type": "markdown",
      "metadata": {
        "id": "4pr9am3HWtvH"
      },
      "source": [
        "# 2. Upload Images\n",
        "\n",
        "Upload the images to be processed\n",
        "\n",
        "---\n",
        "\n",
        "Note : Make sure that your INPUT images are in folder \"/renders\""
      ]
    },
    {
      "cell_type": "code",
      "source": [
        "from google.colab import drive\n",
        "drive.mount('/content/drive')"
      ],
      "metadata": {
        "colab": {
          "base_uri": "https://localhost:8080/"
        },
        "id": "fMdEtV6ceDZE",
        "outputId": "a607c7e8-0d76-43ce-c596-ac4399eadbb1"
      },
      "execution_count": 4,
      "outputs": [
        {
          "output_type": "stream",
          "name": "stdout",
          "text": [
            "Mounted at /content/drive\n"
          ]
        }
      ]
    },
    {
      "cell_type": "code",
      "metadata": {
        "id": "u1tiyMZJW5td"
      },
      "source": [
        "import os\n",
        "output_folder = '/content/drive/MyDrive/upscaled_renders'\n",
        "os.makedirs(output_folder, exist_ok=True)\n",
        "\n",
        "# Vyčištění starých symlinků\n",
        "!rm -rf inputs results\n",
        "\n",
        "# Vytvoření symlinků\n",
        "!ln -s /content/drive/MyDrive/renders inputs\n",
        "!ln -s /content/drive/MyDrive/upscaled_renders results"
      ],
      "execution_count": 5,
      "outputs": []
    },
    {
      "cell_type": "markdown",
      "source": [],
      "metadata": {
        "id": "UO3WLge1v6PE"
      }
    },
    {
      "cell_type": "markdown",
      "metadata": {
        "id": "rqiEtaOYXnrt"
      },
      "source": [
        "## --- Code changes ---\n"
      ]
    },
    {
      "cell_type": "code",
      "source": [
        "!find . -type f -name \"*.py\" -exec sed 's/from torchvision.transforms.functional_tensor import rgb_to_grayscale/from torchvision.transforms.functional import rgb_to_grayscale/g' {} +\n"
      ],
      "metadata": {
        "id": "IuVXYcYKnkV_"
      },
      "execution_count": null,
      "outputs": []
    },
    {
      "cell_type": "code",
      "source": [
        "!sed -i 's/from torchvision.transforms.functional_tensor import rgb_to_grayscale/from torchvision.transforms.functional import rgb_to_grayscale/g' /usr/local/lib/python3.11/dist-packages/basicsr/data/degradations.py\n"
      ],
      "metadata": {
        "id": "meEBgTJMu8cM"
      },
      "execution_count": null,
      "outputs": []
    },
    {
      "cell_type": "markdown",
      "metadata": {
        "id": "d9XaE_5ov85_"
      },
      "source": [
        "# 3. Inference\n"
      ]
    },
    {
      "cell_type": "code",
      "metadata": {
        "colab": {
          "base_uri": "https://localhost:8080/"
        },
        "id": "XTVL4m_zXqBU",
        "outputId": "5befdb17-e90b-488a-e98e-5fe21c773823"
      },
      "source": [
        "!python inference_realesrgan.py -n RealESRGAN_x4plus -i inputs -o results --outscale 2\n",
        "\n",
        "# model options => RealESRGAN_x4plus , RealESRGAN_x4plus , RealESRNet_x4plus , RealESRGAN_x2plus , realesr-general-x4v3\n",
        "# python inference:realesrgan.py --help"
      ],
      "execution_count": 31,
      "outputs": [
        {
          "output_type": "stream",
          "name": "stdout",
          "text": [
            "Downloading: \"https://github.com/xinntao/Real-ESRGAN/releases/download/v0.1.0/RealESRGAN_x4plus.pth\" to /content/Real-ESRGAN/weights/RealESRGAN_x4plus.pth\n",
            "\n",
            "100% 63.9M/63.9M [00:00<00:00, 189MB/s]\n",
            "Testing 0 0112\n"
          ]
        }
      ]
    }
  ]
}